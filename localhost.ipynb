{
 "cells": [
  {
   "cell_type": "code",
   "execution_count": 1,
   "metadata": {},
   "outputs": [],
   "source": [
    "import os\n",
    "import psycopg2\n",
    "conn = psycopg2.connect(host=\"localhost\",database=\"postgres\", user=\"postgres\", password=\"postgres\")\n",
    "cursor = conn.cursor()\n",
    "create_table_query = '''CREATE TABLE player(\n",
    "           user_id serial PRIMARY KEY,\n",
    "           player_name VARCHAR (50) NOT NULL,\n",
    "           used_round VARCHAR (50) NOT NULL\n",
    "        );'''\n",
    "cursor.execute(create_table_query)\n",
    "conn.commit()\n",
    "cursor.close()\n",
    "conn.close()"
   ]
  },
  {
   "cell_type": "code",
   "execution_count": 36,
   "metadata": {},
   "outputs": [
    {
     "name": "stdout",
     "output_type": "stream",
     "text": [
      "1 Record inserted successfully into player\n"
     ]
    }
   ],
   "source": [
    "conn = psycopg2.connect(host=\"localhost\",database=\"postgres\", user=\"postgres\", password=\"postgres\")\n",
    "cursor = conn.cursor()\n",
    "record = ('HenryLin', '5')\n",
    "table_columns = '(player_name, used_round)'\n",
    "postgres_insert_query = f\"\"\"INSERT INTO player {table_columns} VALUES (%s, %s);\"\"\"\n",
    "cursor.execute(postgres_insert_query, record)\n",
    "conn.commit()\n",
    "count = cursor.rowcount\n",
    "print(count, \"Record inserted successfully into player\")\n",
    "cursor.close()\n",
    "conn.close()"
   ]
  },
  {
   "cell_type": "code",
   "execution_count": 76,
   "metadata": {},
   "outputs": [],
   "source": [
    "conn = psycopg2.connect(host=\"localhost\",database=\"postgres\", user=\"postgres\", password=\"postgres\")\n",
    "cursor = conn.cursor()\n",
    "\n",
    "p_n = 'HenryLin'\n",
    "postgres_select_query = f\"\"\"SELECT * FROM player WHERE player_name = %s \"\"\"\n",
    "\n",
    "cursor.execute(postgres_select_query, (p_n, ))"
   ]
  },
  {
   "cell_type": "code",
   "execution_count": 77,
   "metadata": {},
   "outputs": [
    {
     "name": "stdout",
     "output_type": "stream",
     "text": [
      "(3, 'HenryLin', '5')\n"
     ]
    }
   ],
   "source": [
    "#cursor.fetchall()\n",
    "try:\n",
    "    r = cursor.fetchall()[0]\n",
    "    print(r)\n",
    "except:\n",
    "    print('no record')"
   ]
  },
  {
   "cell_type": "code",
   "execution_count": 58,
   "metadata": {},
   "outputs": [
    {
     "name": "stdout",
     "output_type": "stream",
     "text": [
      "1 Record deleted successfully\n"
     ]
    }
   ],
   "source": [
    "postgres_delete_query = f\"\"\"DELETE FROM player WHERE user_id = %s\"\"\"\n",
    "cursor.execute(postgres_delete_query, '2')\n",
    "conn.commit()\n",
    "count = cursor.rowcount\n",
    "print(count, \"Record deleted successfully\")\n",
    "cursor.close()\n",
    "conn.close()"
   ]
  },
  {
   "cell_type": "code",
   "execution_count": 99,
   "metadata": {},
   "outputs": [
    {
     "data": {
      "text/plain": [
       "'5896'"
      ]
     },
     "execution_count": 99,
     "metadata": {},
     "output_type": "execute_result"
    }
   ],
   "source": [
    "from random import randint, choice\n",
    "def quiz():\n",
    "    global randNum\n",
    "    numStr = '0123456789'\n",
    "    randNum = ''\n",
    "    for i in range(4):\n",
    "        n = choice(numStr)\n",
    "        randNum = randNum + n\n",
    "        numStr = numStr.replace(n, '')\n",
    "    return randNum\n",
    "quiz()"
   ]
  },
  {
   "cell_type": "code",
   "execution_count": 100,
   "metadata": {},
   "outputs": [
    {
     "name": "stdout",
     "output_type": "stream",
     "text": [
      "5896\n"
     ]
    }
   ],
   "source": [
    "print(randNum)"
   ]
  },
  {
   "cell_type": "code",
   "execution_count": null,
   "metadata": {},
   "outputs": [],
   "source": []
  }
 ],
 "metadata": {
  "kernelspec": {
   "display_name": "Python 3",
   "language": "python",
   "name": "python3"
  },
  "language_info": {
   "codemirror_mode": {
    "name": "ipython",
    "version": 3
   },
   "file_extension": ".py",
   "mimetype": "text/x-python",
   "name": "python",
   "nbconvert_exporter": "python",
   "pygments_lexer": "ipython3",
   "version": "3.7.6"
  }
 },
 "nbformat": 4,
 "nbformat_minor": 4
}
