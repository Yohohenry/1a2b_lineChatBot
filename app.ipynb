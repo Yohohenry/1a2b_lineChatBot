{
 "cells": [
  {
   "cell_type": "code",
   "execution_count": 51,
   "metadata": {},
   "outputs": [
    {
     "data": {
      "text/plain": [
       "'\\n\\n整體功能描述\\n\\n'"
      ]
     },
     "execution_count": 51,
     "metadata": {},
     "output_type": "execute_result"
    }
   ],
   "source": [
    "'''\n",
    "\n",
    "整體功能描述\n",
    "\n",
    "'''"
   ]
  },
  {
   "cell_type": "code",
   "execution_count": 3,
   "metadata": {},
   "outputs": [],
   "source": [
    "import os\n",
    "import psycopg2\n",
    "conn = psycopg2.connect(host=\"localhost\",database=\"postgres\", user=\"postgres\", password=\"postgres\")\n",
    "cursor = conn.cursor()\n",
    "\n",
    "cursor.execute(create_table_query)\n",
    "conn.commit()\n",
    "cursor.close()\n",
    "conn.close()"
   ]
  },
  {
   "cell_type": "code",
   "execution_count": 52,
   "metadata": {},
   "outputs": [],
   "source": [
    "'''\n",
    "\n",
    "Application 主架構\n",
    "\n",
    "'''\n",
    "\n",
    "# 引用Web Server套件\n",
    "from flask import Flask, request, abort\n",
    "\n",
    "# 從linebot 套件包裡引用 LineBotApi 與 WebhookHandler 類別\n",
    "from linebot import (\n",
    "    LineBotApi, WebhookHandler\n",
    ")\n",
    "\n",
    "# 引用無效簽章錯誤\n",
    "from linebot.exceptions import (\n",
    "    InvalidSignatureError\n",
    ")\n",
    "\n",
    "# 載入json處理套件\n",
    "import json\n",
    "\n",
    "# 載入基礎設定檔\n",
    "secretFileContentJson=json.load(open(\"./line_secret_key\",'r',encoding='utf8'))\n",
    "server_url=secretFileContentJson.get(\"server_url\")\n",
    "\n",
    "# 設定Server啟用細節\n",
    "app = Flask(__name__,static_url_path = \"/素材\" , static_folder = \"./素材/\")\n",
    "\n",
    "# 生成實體物件\n",
    "line_bot_api = LineBotApi(secretFileContentJson.get(\"channel_access_token\"))\n",
    "handler = WebhookHandler(secretFileContentJson.get(\"secret_key\"))\n",
    "\n",
    "# 啟動server對外接口，使Line能丟消息進來\n",
    "@app.route(\"/\", methods=['POST'])\n",
    "def callback():\n",
    "    # get X-Line-Signature header value\n",
    "    signature = request.headers['X-Line-Signature']\n",
    "\n",
    "    # get request body as text\n",
    "    body = request.get_data(as_text=True)\n",
    "    app.logger.info(\"Request body: \" + body)\n",
    "    \n",
    "    print(body)\n",
    "\n",
    "    # handle webhook body\n",
    "    try:\n",
    "        handler.handle(body, signature)\n",
    "    except InvalidSignatureError:\n",
    "        abort(400)\n",
    "\n",
    "    return 'OK'"
   ]
  },
  {
   "cell_type": "code",
   "execution_count": 53,
   "metadata": {},
   "outputs": [],
   "source": [
    "'''\n",
    "\n",
    "消息判斷器\n",
    "\n",
    "讀取指定的json檔案後，把json解析成不同格式的SendMessage\n",
    "\n",
    "讀取檔案，\n",
    "把內容轉換成json\n",
    "將json轉換成消息\n",
    "放回array中，並把array傳出。\n",
    "\n",
    "'''\n",
    "\n",
    "# 引用會用到的套件\n",
    "from linebot.models import (\n",
    "    ImagemapSendMessage,TextSendMessage,ImageSendMessage,LocationSendMessage,FlexSendMessage,VideoSendMessage\n",
    ")\n",
    "\n",
    "from linebot.models.template import (\n",
    "    ButtonsTemplate,CarouselTemplate,ConfirmTemplate,ImageCarouselTemplate\n",
    "    \n",
    ")\n",
    "\n",
    "from linebot.models.template import *\n",
    "\n",
    "def detect_json_array_to_new_message_array(fileName):\n",
    "    \n",
    "    #開啟檔案，轉成json\n",
    "    with open(fileName) as f:\n",
    "        jsonArray = json.load(f)\n",
    "    \n",
    "    # 解析json\n",
    "    returnArray = []\n",
    "    for jsonObject in jsonArray:\n",
    "\n",
    "        # 讀取其用來判斷的元件\n",
    "        message_type = jsonObject.get('type')\n",
    "        \n",
    "        # 轉換\n",
    "        if message_type == 'text':\n",
    "            returnArray.append(TextSendMessage.new_from_json_dict(jsonObject))\n",
    "        elif message_type == 'imagemap':\n",
    "            returnArray.append(ImagemapSendMessage.new_from_json_dict(jsonObject))\n",
    "        elif message_type == 'template':\n",
    "            returnArray.append(TemplateSendMessage.new_from_json_dict(jsonObject))\n",
    "        elif message_type == 'image':\n",
    "            returnArray.append(ImageSendMessage.new_from_json_dict(jsonObject))\n",
    "        elif message_type == 'sticker':\n",
    "            returnArray.append(StickerSendMessage.new_from_json_dict(jsonObject))  \n",
    "        elif message_type == 'audio':\n",
    "            returnArray.append(AudioSendMessage.new_from_json_dict(jsonObject))  \n",
    "        elif message_type == 'location':\n",
    "            returnArray.append(LocationSendMessage.new_from_json_dict(jsonObject))\n",
    "        elif message_type == 'flex':\n",
    "            returnArray.append(FlexSendMessage.new_from_json_dict(jsonObject))  \n",
    "        elif message_type == 'video':\n",
    "            returnArray.append(FlexSendMessage.new_from_json_dict(jsonObject))    \n",
    "\n",
    "\n",
    "    # 回傳\n",
    "    return returnArray"
   ]
  },
  {
   "cell_type": "code",
   "execution_count": 54,
   "metadata": {},
   "outputs": [],
   "source": [
    "'''\n",
    "\n",
    "handler處理關注消息\n",
    "\n",
    "用戶關注時，讀取 素材 -> 關注 -> reply.json\n",
    "\n",
    "將其轉換成可寄發的消息，傳回給Line\n",
    "\n",
    "'''\n",
    "\n",
    "# 引用套件\n",
    "from linebot.models import (\n",
    "    FollowEvent\n",
    ")\n",
    "\n",
    "#圖片消息準備\n",
    "myImageSendMessage = ImageSendMessage(original_content_url='https://i.imgur.com/jpVy8bN.jpg',\n",
    "                                      preview_image_url='https://i.imgur.com/jpVy8bN.jpg' )\n",
    "\n",
    "#引入按鍵模板\n",
    "buttons_template_message_array = []\n",
    "replyJsonPath = \"素材/category/reply.json\"\n",
    "buttons_template_message_array = detect_json_array_to_new_message_array(replyJsonPath)\n",
    "\n",
    "\n",
    "# 關注事件處理\n",
    "# @handler.add(FollowEvent)\n",
    "# def process_follow_event(event):\n",
    "    \n",
    "#     # 讀取並轉換\n",
    "#     result_message_array =[]\n",
    "#     replyJsonPath = \"素材/關注/reply.json\"\n",
    "#     result_message_array = detect_json_array_to_new_message_array(replyJsonPath)\n",
    "\n",
    "#     # 消息發送\n",
    "#     line_bot_api.reply_message(\n",
    "#         event.reply_token,\n",
    "#         result_message_array\n",
    "#     )\n",
    "\n",
    "\n",
    "@handler.add(FollowEvent)\n",
    "def process_follow_event(event):\n",
    "    # 取出消息內User的資料\n",
    "    \n",
    "    user_profile = line_bot_api.get_profile(event.source.user_id)\n",
    "    \n",
    "    lineRichMenuId = 'richmenu-37c601b9c38340b884d6f617cab84236'\n",
    "    linkResult=line_bot_api.link_rich_menu_to_user(secretFileContentJson[\"self_user_id\"], lineRichMenuId)\n",
    "    # 將用戶資訊存在檔案內\n",
    "    with open(\"./users.txt\", \"a\") as myfile:\n",
    "        myfile.write(json.dumps(vars(user_profile),sort_keys=True))\n",
    "        myfile.write('\\r\\n')\n",
    "    \n",
    "        \n",
    "    # 消息發送\n",
    "    line_bot_api.reply_message(\n",
    "        event.reply_token,\n",
    "        buttons_template_message_array\n",
    "    )\n"
   ]
  },
  {
   "cell_type": "code",
   "execution_count": 55,
   "metadata": {},
   "outputs": [],
   "source": [
    "'''\n",
    "\n",
    "準備QuickReply的Button\n",
    "\n",
    "\n",
    "'''\n",
    "\n",
    "# 引入相關套件\n",
    "from linebot.models import (\n",
    "    MessageAction, URIAction,\n",
    "    PostbackAction, DatetimePickerAction,\n",
    "    CameraAction, CameraRollAction, LocationAction,\n",
    "    QuickReply, QuickReplyButton\n",
    ")\n",
    "\n"
   ]
  },
  {
   "cell_type": "code",
   "execution_count": 56,
   "metadata": {},
   "outputs": [],
   "source": [
    "'''\n",
    "\n",
    "製作TextSendMessage，並將剛封裝的QuickReply放入\n",
    "\n",
    "'''\n",
    "## 將quickReplyList 塞入TextSendMessage 中 \n",
    "from linebot.models import (\n",
    "    TextSendMessage,\n",
    ")\n",
    "# quickReplyTextSendMessage = TextSendMessage(text='What is a correct syntax to output \\\"Hello World\\\" in Python?\\n(A) p(\\\"Hello World\\\")\\n(B) print(\\\"Hello World\\\") \\n(C) echo(\\\"Hello World\\\");\\n(D) echo \\\"Hello World\\\"', quick_reply=quickReplyList)"
   ]
  },
  {
   "cell_type": "code",
   "execution_count": 57,
   "metadata": {},
   "outputs": [],
   "source": [
    "'''\n",
    "\n",
    "handler處理文字消息\n",
    "\n",
    "收到用戶回應的文字消息，\n",
    "按文字消息內容，往素材資料夾中，找尋以該內容命名的資料夾，讀取裡面的reply.json\n",
    "\n",
    "轉譯json後，將消息回傳給用戶\n",
    "\n",
    "'''\n",
    "\n",
    "# 引用套件\n",
    "from linebot.models import (\n",
    "    MessageEvent, TextMessage\n",
    ")\n",
    "\n",
    "# 文字消息處理\n",
    "@handler.add(MessageEvent,message=TextMessage)\n",
    "def process_text_message(event):\n",
    "\n",
    "    # 讀取本地檔案，並轉譯成消息\n",
    "    result_message_array =[]\n",
    "    replyJsonPath = \"素材/\"+event.message.text+\"/reply.json\"\n",
    "    result_message_array = detect_json_array_to_new_message_array(replyJsonPath)\n",
    "\n",
    "    # 發送\n",
    "    line_bot_api.reply_message(\n",
    "        event.reply_token,\n",
    "        result_message_array\n",
    "    )\n"
   ]
  },
  {
   "cell_type": "code",
   "execution_count": 58,
   "metadata": {},
   "outputs": [],
   "source": [
    "'''\n",
    "\n",
    "handler處理Postback Event\n",
    "\n",
    "載入功能選單與啟動特殊功能\n",
    "\n",
    "解析postback的data，並按照data欄位判斷處理\n",
    "\n",
    "現有三個欄位\n",
    "menu, folder, tag\n",
    "\n",
    "若folder欄位有值，則\n",
    "    讀取其reply.json，轉譯成消息，並發送\n",
    "\n",
    "若menu欄位有值，則\n",
    "    讀取其rich_menu_id，並取得用戶id，將用戶與選單綁定\n",
    "    讀取其reply.json，轉譯成消息，並發送\n",
    "\n",
    "'''\n",
    "from linebot.models import (\n",
    "    PostbackEvent\n",
    ")\n",
    "\n",
    "from urllib.parse import parse_qs \n",
    "Q = 1\n",
    "@handler.add(PostbackEvent)\n",
    "\n",
    "def process_postback_event(event):\n",
    "    \n",
    "\n",
    "    global Q\n",
    "    query_string_dict = parse_qs(event.postback.data)\n",
    "    \n",
    "    print(query_string_dict)\n",
    "    if 'folder' in query_string_dict:\n",
    "    \n",
    "        result_message_array =[]\n",
    "\n",
    "        replyJsonPath = '素材/'+query_string_dict.get('folder')[0]+\"/reply.json\"\n",
    "        result_message_array = detect_json_array_to_new_message_array(replyJsonPath)\n",
    "  \n",
    "        line_bot_api.reply_message(\n",
    "            event.reply_token,\n",
    "            result_message_array\n",
    "        )\n",
    "    elif 'menu' in query_string_dict:\n",
    " \n",
    "        linkRichMenuId = open(\"素材/\"+query_string_dict.get('menu')[0]+'/rich_menu_id', 'r', encoding='utf8').read()\n",
    "        line_bot_api.link_rich_menu_to_user(event.source.user_id,linkRichMenuId)\n",
    "        \n",
    "#         replyJsonPath = '素材/'+query_string_dict.get('menu')[0]+\"/reply.json\"\n",
    "#         result_message_array = detect_json_array_to_new_message_array(replyJsonPath)\n",
    "  \n",
    "        line_bot_api.reply_message(\n",
    "        event.reply_token,\n",
    "            TextMessage(\n",
    "                text='感謝購買～'\n",
    "            )\n",
    "        )\n",
    "    elif (event.postback.data.find('Q1') == 0):\n",
    "        Q = 1\n",
    "    elif (event.postback.data.find('rightAns') == 0):\n",
    "        result_message_array =[]\n",
    "        Q+=1\n",
    "        replyJsonPath = \"素材/Q\"+ str(Q) + \"/reply.json\"\n",
    "        result_message_array = detect_json_array_to_new_message_array(replyJsonPath)\n",
    "        line_bot_api.reply_message(\n",
    "            event.reply_token,\n",
    "            result_message_array\n",
    "        )\n",
    "    elif (event.postback.data.find('charged') == 0):\n",
    "        line_bot_api.reply_message(\n",
    "        event.reply_token,\n",
    "            TextMessage(\n",
    "                text='感謝購買～'\n",
    "            )\n",
    "        )\n",
    "        \n",
    "    else:\n",
    "        line_bot_api.reply_message(\n",
    "        event.reply_token,\n",
    "            TextMessage(\n",
    "                text='Wrong answer...'\n",
    "            )\n",
    "        )"
   ]
  },
  {
   "cell_type": "code",
   "execution_count": 59,
   "metadata": {
    "scrolled": true
   },
   "outputs": [
    {
     "name": "stdout",
     "output_type": "stream",
     "text": [
      " * Serving Flask app \"__main__\" (lazy loading)\n",
      " * Environment: production\n",
      "\u001b[31m   WARNING: This is a development server. Do not use it in a production deployment.\u001b[0m\n",
      "\u001b[2m   Use a production WSGI server instead.\u001b[0m\n",
      " * Debug mode: off\n"
     ]
    },
    {
     "name": "stderr",
     "output_type": "stream",
     "text": [
      " * Running on http://0.0.0.0:5000/ (Press CTRL+C to quit)\n",
      "127.0.0.1 - - [05/Apr/2020 18:28:35] \"\u001b[37mPOST / HTTP/1.1\u001b[0m\" 200 -\n"
     ]
    },
    {
     "name": "stdout",
     "output_type": "stream",
     "text": [
      "{\"events\":[{\"type\":\"unfollow\",\"source\":{\"userId\":\"U1b31e6702cab04f084d9b597b2924fa8\",\"type\":\"user\"},\"timestamp\":1586082513966,\"mode\":\"active\"}],\"destination\":\"U634eb7bc009dfbfcd76339ddf7484d23\"}\n",
      "{\"events\":[{\"type\":\"follow\",\"replyToken\":\"33d863190aea426894b9b512424ba93b\",\"source\":{\"userId\":\"U1b31e6702cab04f084d9b597b2924fa8\",\"type\":\"user\"},\"timestamp\":1586082514833,\"mode\":\"active\"}],\"destination\":\"U634eb7bc009dfbfcd76339ddf7484d23\"}\n"
     ]
    },
    {
     "name": "stderr",
     "output_type": "stream",
     "text": [
      "127.0.0.1 - - [05/Apr/2020 18:28:36] \"\u001b[37mPOST / HTTP/1.1\u001b[0m\" 200 -\n"
     ]
    },
    {
     "name": "stdout",
     "output_type": "stream",
     "text": [
      "{\"events\":[{\"type\":\"message\",\"replyToken\":\"7358b54e622c4422aad96434b9db0468\",\"source\":{\"userId\":\"U1b31e6702cab04f084d9b597b2924fa8\",\"type\":\"user\"},\"timestamp\":1586082522921,\"mode\":\"active\",\"message\":{\"type\":\"text\",\"id\":\"11729694709545\",\"text\":\"Come on!\"}}],\"destination\":\"U634eb7bc009dfbfcd76339ddf7484d23\"}\n"
     ]
    },
    {
     "name": "stderr",
     "output_type": "stream",
     "text": [
      "127.0.0.1 - - [05/Apr/2020 18:28:44] \"\u001b[37mPOST / HTTP/1.1\u001b[0m\" 200 -\n"
     ]
    },
    {
     "name": "stdout",
     "output_type": "stream",
     "text": [
      "{\"events\":[{\"type\":\"message\",\"replyToken\":\"ea675b434bb14285923d8d45920f7a5e\",\"source\":{\"userId\":\"U1b31e6702cab04f084d9b597b2924fa8\",\"type\":\"user\"},\"timestamp\":1586082534001,\"mode\":\"active\",\"message\":{\"type\":\"text\",\"id\":\"11729695553193\",\"text\":\"category\"}}],\"destination\":\"U634eb7bc009dfbfcd76339ddf7484d23\"}\n"
     ]
    },
    {
     "name": "stderr",
     "output_type": "stream",
     "text": [
      "127.0.0.1 - - [05/Apr/2020 18:28:55] \"\u001b[37mPOST / HTTP/1.1\u001b[0m\" 200 -\n",
      "127.0.0.1 - - [05/Apr/2020 18:28:57] \"\u001b[37mPOST / HTTP/1.1\u001b[0m\" 200 -\n"
     ]
    },
    {
     "name": "stdout",
     "output_type": "stream",
     "text": [
      "{\"events\":[{\"type\":\"message\",\"replyToken\":\"b26554ad7e744bf3bf07baf25d922329\",\"source\":{\"userId\":\"U1b31e6702cab04f084d9b597b2924fa8\",\"type\":\"user\"},\"timestamp\":1586082536714,\"mode\":\"active\",\"message\":{\"type\":\"text\",\"id\":\"11729695763254\",\"text\":\"第一支程式\"}}],\"destination\":\"U634eb7bc009dfbfcd76339ddf7484d23\"}\n",
      "{\"events\":[{\"type\":\"message\",\"replyToken\":\"25ad2118f0694d09ad74d629abdac2d0\",\"source\":{\"userId\":\"U1b31e6702cab04f084d9b597b2924fa8\",\"type\":\"user\"},\"timestamp\":1586082539507,\"mode\":\"active\",\"message\":{\"type\":\"text\",\"id\":\"11729695969890\",\"text\":\"var & str\"}}],\"destination\":\"U634eb7bc009dfbfcd76339ddf7484d23\"}\n"
     ]
    },
    {
     "name": "stderr",
     "output_type": "stream",
     "text": [
      "127.0.0.1 - - [05/Apr/2020 18:29:02] \"\u001b[37mPOST / HTTP/1.1\u001b[0m\" 200 -\n",
      "127.0.0.1 - - [05/Apr/2020 18:29:05] \"\u001b[37mPOST / HTTP/1.1\u001b[0m\" 200 -\n"
     ]
    },
    {
     "name": "stdout",
     "output_type": "stream",
     "text": [
      "{\"events\":[{\"type\":\"postback\",\"replyToken\":\"77b6c6f64fe246bbb5bf019204831d6b\",\"source\":{\"userId\":\"U1b31e6702cab04f084d9b597b2924fa8\",\"type\":\"user\"},\"timestamp\":1586082545100,\"mode\":\"active\",\"postback\":{\"data\":\"Q1\"}}],\"destination\":\"U634eb7bc009dfbfcd76339ddf7484d23\"}\n",
      "{}\n",
      "{\"events\":[{\"type\":\"message\",\"replyToken\":\"55d1916b9ac74ee48f15b46c349ac519\",\"source\":{\"userId\":\"U1b31e6702cab04f084d9b597b2924fa8\",\"type\":\"user\"},\"timestamp\":1586082545099,\"mode\":\"active\",\"message\":{\"type\":\"text\",\"id\":\"11729696398123\",\"text\":\"Come on!\"}}],\"destination\":\"U634eb7bc009dfbfcd76339ddf7484d23\"}\n"
     ]
    },
    {
     "name": "stderr",
     "output_type": "stream",
     "text": [
      "127.0.0.1 - - [05/Apr/2020 18:29:06] \"\u001b[37mPOST / HTTP/1.1\u001b[0m\" 200 -\n"
     ]
    },
    {
     "name": "stdout",
     "output_type": "stream",
     "text": [
      "{\"events\":[{\"type\":\"postback\",\"replyToken\":\"c0ea227b8bb742359131cf4b48959916\",\"source\":{\"userId\":\"U1b31e6702cab04f084d9b597b2924fa8\",\"type\":\"user\"},\"timestamp\":1586082547643,\"mode\":\"active\",\"postback\":{\"data\":\"menu=rich_menu_charged\"}}],\"destination\":\"U634eb7bc009dfbfcd76339ddf7484d23\"}\n",
      "{'menu': ['rich_menu_charged']}\n"
     ]
    },
    {
     "name": "stderr",
     "output_type": "stream",
     "text": [
      "127.0.0.1 - - [05/Apr/2020 18:29:08] \"\u001b[37mPOST / HTTP/1.1\u001b[0m\" 200 -\n",
      "[2020-04-05 18:29:09,249] ERROR in app: Exception on / [POST]\n",
      "Traceback (most recent call last):\n",
      "  File \"/Library/Frameworks/Python.framework/Versions/3.7/lib/python3.7/site-packages/flask/app.py\", line 2446, in wsgi_app\n",
      "    response = self.full_dispatch_request()\n",
      "  File \"/Library/Frameworks/Python.framework/Versions/3.7/lib/python3.7/site-packages/flask/app.py\", line 1951, in full_dispatch_request\n",
      "    rv = self.handle_user_exception(e)\n",
      "  File \"/Library/Frameworks/Python.framework/Versions/3.7/lib/python3.7/site-packages/flask/app.py\", line 1820, in handle_user_exception\n",
      "    reraise(exc_type, exc_value, tb)\n",
      "  File \"/Library/Frameworks/Python.framework/Versions/3.7/lib/python3.7/site-packages/flask/_compat.py\", line 39, in reraise\n",
      "    raise value\n",
      "  File \"/Library/Frameworks/Python.framework/Versions/3.7/lib/python3.7/site-packages/flask/app.py\", line 1949, in full_dispatch_request\n",
      "    rv = self.dispatch_request()\n",
      "  File \"/Library/Frameworks/Python.framework/Versions/3.7/lib/python3.7/site-packages/flask/app.py\", line 1935, in dispatch_request\n",
      "    return self.view_functions[rule.endpoint](**req.view_args)\n",
      "  File \"<ipython-input-52-292e4507a0aa>\", line 48, in callback\n",
      "    handler.handle(body, signature)\n",
      "  File \"/Library/Frameworks/Python.framework/Versions/3.7/lib/python3.7/site-packages/linebot/webhook.py\", line 260, in handle\n",
      "    func(event)\n",
      "  File \"<ipython-input-57-3f1666db29ec>\", line 24, in process_text_message\n",
      "    result_message_array = detect_json_array_to_new_message_array(replyJsonPath)\n",
      "  File \"<ipython-input-53-ff8a403c126c>\", line 29, in detect_json_array_to_new_message_array\n",
      "    with open(fileName) as f:\n",
      "FileNotFoundError: [Errno 2] No such file or directory: '素材/我要買課！/reply.json'\n",
      "127.0.0.1 - - [05/Apr/2020 18:29:09] \"\u001b[35m\u001b[1mPOST / HTTP/1.1\u001b[0m\" 500 -\n"
     ]
    },
    {
     "name": "stdout",
     "output_type": "stream",
     "text": [
      "{\"events\":[{\"type\":\"message\",\"replyToken\":\"74c9fb11167c45daaced0aa2e8cd6afd\",\"source\":{\"userId\":\"U1b31e6702cab04f084d9b597b2924fa8\",\"type\":\"user\"},\"timestamp\":1586082547641,\"mode\":\"active\",\"message\":{\"type\":\"text\",\"id\":\"11729696589407\",\"text\":\"我要買課！\"}}],\"destination\":\"U634eb7bc009dfbfcd76339ddf7484d23\"}\n"
     ]
    },
    {
     "name": "stderr",
     "output_type": "stream",
     "text": [
      "127.0.0.1 - - [05/Apr/2020 18:29:22] \"\u001b[37mPOST / HTTP/1.1\u001b[0m\" 200 -\n"
     ]
    },
    {
     "name": "stdout",
     "output_type": "stream",
     "text": [
      "{\"events\":[{\"type\":\"unfollow\",\"source\":{\"userId\":\"U1b31e6702cab04f084d9b597b2924fa8\",\"type\":\"user\"},\"timestamp\":1586082562282,\"mode\":\"active\"}],\"destination\":\"U634eb7bc009dfbfcd76339ddf7484d23\"}\n",
      "{\"events\":[{\"type\":\"follow\",\"replyToken\":\"241d7da02cf24650bc511f738771a036\",\"source\":{\"userId\":\"U1b31e6702cab04f084d9b597b2924fa8\",\"type\":\"user\"},\"timestamp\":1586082563255,\"mode\":\"active\"}],\"destination\":\"U634eb7bc009dfbfcd76339ddf7484d23\"}\n"
     ]
    },
    {
     "name": "stderr",
     "output_type": "stream",
     "text": [
      "127.0.0.1 - - [05/Apr/2020 18:29:24] \"\u001b[37mPOST / HTTP/1.1\u001b[0m\" 200 -\n"
     ]
    }
   ],
   "source": [
    "'''\n",
    "\n",
    "Application 運行（開發版）\n",
    "\n",
    "'''\n",
    "if __name__ == \"__main__\":\n",
    "    app.run(host='0.0.0.0')"
   ]
  },
  {
   "cell_type": "code",
   "execution_count": 60,
   "metadata": {},
   "outputs": [
    {
     "data": {
      "text/plain": [
       "'\\n\\nApplication 運行（heroku版）\\n\\n'"
      ]
     },
     "execution_count": 60,
     "metadata": {},
     "output_type": "execute_result"
    }
   ],
   "source": [
    "'''\n",
    "\n",
    "Application 運行（heroku版）\n",
    "\n",
    "'''\n",
    "\n",
    "# import os\n",
    "# if __name__ == \"__main__\":\n",
    "#     app.run(host='0.0.0.0',port=os.environ['PORT'])"
   ]
  }
 ],
 "metadata": {
  "kernelspec": {
   "display_name": "Python 3",
   "language": "python",
   "name": "python3"
  },
  "language_info": {
   "codemirror_mode": {
    "name": "ipython",
    "version": 3
   },
   "file_extension": ".py",
   "mimetype": "text/x-python",
   "name": "python",
   "nbconvert_exporter": "python",
   "pygments_lexer": "ipython3",
   "version": "3.7.6"
  }
 },
 "nbformat": 4,
 "nbformat_minor": 2
}
